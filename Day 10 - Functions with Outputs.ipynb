{
 "cells": [
  {
   "cell_type": "code",
   "execution_count": 3,
   "id": "2ae8957d",
   "metadata": {},
   "outputs": [
    {
     "name": "stdout",
     "output_type": "stream",
     "text": [
      "Nadia\n",
      "Mila\n"
     ]
    }
   ],
   "source": [
    "#Functions with Outputs\n",
    "def format_name(first_name, last_name):\n",
    "    print(first_name.title())\n",
    "    print(last_name.title())\n",
    "format_name(\"nADia\" , \"mILa\")"
   ]
  },
  {
   "cell_type": "code",
   "execution_count": 5,
   "id": "18bfad85",
   "metadata": {},
   "outputs": [
    {
     "name": "stdout",
     "output_type": "stream",
     "text": [
      "Nadia Mila\n"
     ]
    }
   ],
   "source": [
    "def format_name(first_name, last_name):\n",
    "    formated_first_name = first_name.title()\n",
    "    formated_last_name = last_name.title()\n",
    "    print(f\"{formated_first_name} {formated_last_name}\")\n",
    "format_name(\"nAdIa\", \"mIla\")\n",
    "#OR"
   ]
  },
  {
   "cell_type": "code",
   "execution_count": 8,
   "id": "db4145be",
   "metadata": {},
   "outputs": [
    {
     "name": "stdout",
     "output_type": "stream",
     "text": [
      "Nadia Mila\n"
     ]
    }
   ],
   "source": [
    "def format_name(first_name, last_name):\n",
    "    formated_first_name = first_name.title()\n",
    "    formated_last_name = last_name.title()\n",
    "    return f\"{formated_first_name} {formated_last_name}\"\n",
    "\n",
    "formated_string = format_name(\"nAdIa\", \"mIla\")\n",
    "    \n",
    "print(formated_string)\n",
    "#OR"
   ]
  },
  {
   "cell_type": "markdown",
   "id": "d075cda5",
   "metadata": {},
   "source": [
    "Multiple Return Values"
   ]
  },
  {
   "cell_type": "code",
   "execution_count": 12,
   "id": "434f7eb2",
   "metadata": {},
   "outputs": [
    {
     "name": "stdout",
     "output_type": "stream",
     "text": [
      "What's is your first name? NADIA\n",
      "What's your last name? miLA\n",
      "Nadia Mila\n"
     ]
    }
   ],
   "source": [
    "def format_name(first_name, last_name):\n",
    "    formated_first_name = first_name.title()\n",
    "    formated_last_name = last_name.title()\n",
    "    return f\"{formated_first_name} {formated_last_name}\"\n",
    "\n",
    "print(format_name(input(\"What's is your first name? \"), input(\"What's your last name? \")))"
   ]
  },
  {
   "cell_type": "code",
   "execution_count": 16,
   "id": "b32dfb5f",
   "metadata": {},
   "outputs": [
    {
     "name": "stdout",
     "output_type": "stream",
     "text": [
      "What's is your first name? NADIA\n",
      "What's your last name? NOLAN\n",
      "Nadia Nolan\n"
     ]
    }
   ],
   "source": [
    "def format_name(first_name, last_name):\n",
    "    if first_name == \"\" and last_name == \"\":\n",
    "        return \"Result: You didn't provide valid inputs.\"\n",
    "    formated_first_name = first_name.title()\n",
    "    formated_last_name = last_name.title()\n",
    "    return f\"{formated_first_name} {formated_last_name}\"\n",
    "\n",
    "print(format_name(input(\"What's is your first name? \"), input(\"What's your last name? \")))"
   ]
  },
  {
   "cell_type": "code",
   "execution_count": 9,
   "id": "625f49d4",
   "metadata": {},
   "outputs": [
    {
     "name": "stdout",
     "output_type": "stream",
     "text": [
      "Your first name: \n",
      "Your last name: \n",
      "You didn't provide valid inputs.\n",
      "What is your first name? NADIA\n",
      "What is your last name? mILA\n",
      "None\n"
     ]
    }
   ],
   "source": [
    "#Functions with Outputs\n",
    "def format_name(first_name, last_name):\n",
    "    if first_name == \"\" or last_name == \"\":\n",
    "        return \"You didn't provide valid inputs.\"\n",
    "    formatted_first_name = first_name.title()\n",
    "    formatted_last_name = last_name.title()\n",
    "    f\"Result: {formatted_first_name} {formatted_last_name}\"\n",
    "\n",
    "#Storing output in a variable\n",
    "formatted_name = format_name(input(\"Your first name: \"), input(\"Your last name: \"))\n",
    "print(formatted_name)\n",
    "#or printing output directly\n",
    "print(format_name(input(\"What is your first name? \"), input(\"What is your last name? \")))\n",
    "\n",
    "#Already used functions with outputs.\n",
    "length = len(formatted_name)\n",
    "\n",
    "#Return as an early exit\n",
    "def format_name(first_name, last_name):\n",
    "  \"\"\"Take a first and last name and format it \n",
    "  to return the title case version of the name.\"\"\"\n",
    "  if first_name == \"\" or last_name == \"\":\n",
    "        return \"You didn't provide valid inputs.\"\n",
    "        formatted_first_name = first_name.title()\n",
    "        formatted_last_name = last_name.title()\n",
    "        return f\"Result: {formatted_first_name} {formatted_last_name}\"\n"
   ]
  },
  {
   "cell_type": "markdown",
   "id": "cc4d6ddb",
   "metadata": {},
   "source": [
    "Days in Months "
   ]
  },
  {
   "cell_type": "code",
   "execution_count": 23,
   "id": "fad59ae4",
   "metadata": {},
   "outputs": [
    {
     "name": "stdout",
     "output_type": "stream",
     "text": [
      "Enter a year: 2020\n",
      "Enter a month: 2\n",
      "29\n"
     ]
    }
   ],
   "source": [
    "def is_leap(year):\n",
    "    if year % 4 == 0:\n",
    "        if year % 100 == 0:\n",
    "            if year % 400 == 0: \n",
    "                return True \n",
    "            else:\n",
    "                return False\n",
    "        else: \n",
    "            return True \n",
    "    else: \n",
    "        return False\n",
    "    \"\"\"leap year or not leap year\"\"\"\n",
    "def days_in_month(year, month):\n",
    "    month_days = [31, 28, 31, 30, 31, 30, 31, 31, 30, 31, 30, 31]\n",
    "    if is_leap(year) and month == 2:\n",
    "        return 29\n",
    "    return month_days[month - 1]\n",
    "year = int(input(\"Enter a year: \"))\n",
    "month= int(input(\"Enter a month: \"))\n",
    "days = days_in_month(year, month)\n",
    "print(days)"
   ]
  },
  {
   "cell_type": "code",
   "execution_count": 24,
   "id": "70f81341",
   "metadata": {},
   "outputs": [
    {
     "name": "stdout",
     "output_type": "stream",
     "text": [
      "Enter a year: 2018\n",
      "Enter a month: 2\n",
      "28\n"
     ]
    }
   ],
   "source": [
    "#Docstrings\n",
    "def is_leap(year):\n",
    "    if year % 4 == 0:\n",
    "        if year % 100 == 0:\n",
    "            if year % 400 == 0: \n",
    "                return True \n",
    "            else:\n",
    "                return False\n",
    "        else: \n",
    "            return True \n",
    "    else: \n",
    "        return False\n",
    "    \"\"\"leap year or not leap year\"\"\" #Docstring - it is a means of commenting in python \n",
    "def days_in_month(year, month):\n",
    "    month_days = [31, 28, 31, 30, 31, 30, 31, 31, 30, 31, 30, 31]\n",
    "    if is_leap(year) and month == 2:\n",
    "        return 29\n",
    "    return month_days[month - 1]\n",
    "year = int(input(\"Enter a year: \"))\n",
    "month= int(input(\"Enter a month: \"))\n",
    "days = days_in_month(year, month)\n",
    "print(days)"
   ]
  },
  {
   "cell_type": "markdown",
   "id": "4c5d0dfe",
   "metadata": {},
   "source": [
    "Calculator Program Part 1: Combining Dictionaries and Functions"
   ]
  },
  {
   "cell_type": "code",
   "execution_count": 36,
   "id": "cb270594",
   "metadata": {},
   "outputs": [
    {
     "name": "stdout",
     "output_type": "stream",
     "text": [
      "Enter the first number: 45\n",
      "Enter the second number: 8\n",
      "+\n",
      "-\n",
      "*\n",
      "/\n",
      "**\n",
      "Pick an operation:-\n",
      "Result of: 45.0 - 8.0 = 37.0\n"
     ]
    }
   ],
   "source": [
    "#Create functions for each operation\n",
    "def add(n1, n2):\n",
    "    return n1 + n2 \n",
    "\n",
    "def subtract(n1, n2):\n",
    "    return n1 - n2 \n",
    "\n",
    "def multiply(n1, n2):\n",
    "    return n1 * n2 \n",
    "\n",
    "def divide(n1, n2):\n",
    "    return n1/n2 \n",
    "\n",
    "def power(n1, n2):\n",
    "    return n1 ** n2 \n",
    "\n",
    "def power(n1, n2):\n",
    "    return n1 ** n2 \n",
    " \n",
    "\n",
    "#Create a Dictionary called operations\n",
    "operations = {\n",
    "    \"+\": add,\n",
    "    \"-\": subtract,\n",
    "    \"*\": multiply,\n",
    "    \"/\": divide,\n",
    "    \"**\": power\n",
    "}\n",
    " \n",
    "#Use input function to create your inputs for first number and second_number call them num1 and num2 respectively\n",
    "num1 = float(input(\"Enter the first number: \"))\n",
    "num2 = float(input(\"Enter the second number: \"))\n",
    "\n",
    "#Introduce a for loop to loop through the operation symbols \n",
    "for symbol in operations: \n",
    "    print(symbol)\n",
    "    \n",
    "#Use input function to create your input for symbol and call it operation symbol\n",
    "operation_symbol = input(\"Pick an operation:\")\n",
    "\n",
    "#Pass operation symbol through operations and call it calculation function \n",
    "calculation_function = operations[operation_symbol]\n",
    "answer = calculation_function(num1, num2)\n",
    "\n",
    "print(f\"Result of: {num1} {operation_symbol} {num2} = {answer}\")\n"
   ]
  },
  {
   "cell_type": "markdown",
   "id": "95dd25c8",
   "metadata": {},
   "source": [
    "PRINT vs. RETURN"
   ]
  },
  {
   "cell_type": "code",
   "execution_count": 42,
   "id": "28d21dd2",
   "metadata": {},
   "outputs": [
    {
     "name": "stdout",
     "output_type": "stream",
     "text": [
      "Enter the first number: 4\n",
      "+\n",
      "-\n",
      "*\n",
      "/\n",
      "**\n",
      "Pick an operation: +\n",
      "Enter the second number: 6\n",
      "Result of: 4.0 + 6.0 = 10.0\n",
      "Pick another operation: *\n",
      "Enter the next number: 10\n",
      "Result of: 10.0 * 10.0 = 240.0\n"
     ]
    }
   ],
   "source": [
    "#Create functions for each operation\n",
    "def add(n1, n2):\n",
    "    return n1 + n2 \n",
    "\n",
    "def subtract(n1, n2):\n",
    "    return n1 - n2 \n",
    "\n",
    "def multiply(n1, n2):\n",
    "    return n1 * n2 \n",
    "\n",
    "def divide(n1, n2):\n",
    "    return n1/n2 \n",
    "\n",
    "def power(n1, n2):\n",
    "    return n1 ** n2 \n",
    "\n",
    "def power(n1, n2):\n",
    "    return n1 ** n2 \n",
    "\n",
    "#Create a Dictionary called operations\n",
    "operations = {\n",
    "    \"+\": add,\n",
    "    \"-\": subtract,\n",
    "    \"*\": multiply,\n",
    "    \"/\": divide,\n",
    "    \"**\": power\n",
    "}\n",
    " \n",
    "#Use input function to create your inputs for first number and second_number call them num1 and num2 respectively\n",
    "num1 = float(input(\"Enter the first number: \"))\n",
    "for symbol in operations: \n",
    "    print(symbol)\n",
    "operation_symbol = input(\"Pick an operation: \")\n",
    "num2 = float(input(\"Enter the second number: \"))\n",
    "calculation_function = operations[operation_symbol]\n",
    "first_answer = calculation_function(num1, num2)\n",
    "\n",
    "print(f\"Result of: {num1} {operation_symbol} {num2} = {first_answer}\")\n",
    "\n",
    "operation_symbol = input(\"Pick another operation: \")\n",
    "num3 = float(input(\"Enter the next number: \"))\n",
    "calculation_function = operations[operation_symbol]\n",
    "second_answer = calculation_function(calculation_function(num1, num2), num3)\n",
    "\n",
    "print(f\"Result of: {first_answer} {operation_symbol} {num3} = {second_answer}\")\n",
    " "
   ]
  },
  {
   "cell_type": "markdown",
   "id": "8d4fcee6",
   "metadata": {},
   "source": [
    "While Loops "
   ]
  },
  {
   "cell_type": "code",
   "execution_count": 58,
   "id": "7215f6ae",
   "metadata": {},
   "outputs": [
    {
     "name": "stdout",
     "output_type": "stream",
     "text": [
      "Enter the first number: 4\n",
      "+\n",
      "-\n",
      "*\n",
      "/\n",
      "**\n",
      "Pick an operation: -\n",
      "Enter the next number: 2\n",
      "Result of: 4.0 - 2.0 = 2.0\n",
      "Type 'y' to continue calculating with 2.0 or type 'n' to exit.: y\n",
      "Pick an operation: +\n",
      "Enter the next number: 4\n",
      "Result of: 2.0 + 4.0 = 6.0\n",
      "Type 'y' to continue calculating with 6.0 or type 'n' to exit.: n\n"
     ]
    }
   ],
   "source": [
    "def add(n1, n2):\n",
    "    return n1 + n2 \n",
    "\n",
    "def subtract(n1, n2):\n",
    "    return n1 - n2 \n",
    "\n",
    "def multiply(n1, n2):\n",
    "    return n1 * n2 \n",
    "\n",
    "def divide(n1, n2):\n",
    "    return n1/n2 \n",
    "\n",
    "def power(n1, n2):\n",
    "    return n1 ** n2 \n",
    "\n",
    "def power(n1, n2):\n",
    "    return n1 ** n2 \n",
    "\n",
    "#Create a Dictionary called operations\n",
    "operations = {\n",
    "    \"+\": add,\n",
    "    \"-\": subtract,\n",
    "    \"*\": multiply,\n",
    "    \"/\": divide,\n",
    "    \"**\": power\n",
    "}\n",
    " \n",
    "#Use input function to create your inputs for first number and second_number call them num1 and num2 respectively\n",
    "num1 = float(input(\"Enter the first number: \"))\n",
    "for symbol in operations: \n",
    "    print(symbol)\n",
    "    \n",
    "should_continue = True\n",
    "while should_continue:\n",
    "    operation_symbol = input(\"Pick an operation: \")\n",
    "    num2 = float(input(\"Enter the next number: \"))\n",
    "    calculation_function = operations[operation_symbol]\n",
    "    answer = calculation_function(num1, num2)\n",
    "\n",
    "    print(f\"Result of: {num1} {operation_symbol} {num2} = {answer}\")\n",
    "\n",
    "    if input(f\"Type 'y' to continue calculating with {answer} or type 'n' to exit.: \") == \"y\":\n",
    "        num1 = answer\n",
    "    else:\n",
    "        should_continue = False"
   ]
  },
  {
   "cell_type": "markdown",
   "id": "14dda191",
   "metadata": {},
   "source": [
    "Flags and Recursion "
   ]
  },
  {
   "cell_type": "code",
   "execution_count": null,
   "id": "37de0a75",
   "metadata": {},
   "outputs": [
    {
     "name": "stdout",
     "output_type": "stream",
     "text": [
      "Enter the first number: 3\n",
      "+\n",
      "-\n",
      "*\n",
      "/\n",
      "**\n",
      "Pick an operation: +\n",
      "Enter the next number: 4\n",
      "Result of: 3.0 + 4.0 = 7.0\n",
      "Type 'y' to continue calculating with 7.0 or type 'n' to exit.: y\n",
      "Enter the first number: 5\n",
      "+\n",
      "-\n",
      "*\n",
      "/\n",
      "**\n",
      "Pick an operation: _\n"
     ]
    }
   ],
   "source": [
    "def add(n1, n2):\n",
    "    return n1 + n2 \n",
    "\n",
    "def subtract(n1, n2):\n",
    "    return n1 - n2 \n",
    "\n",
    "def multiply(n1, n2):\n",
    "    return n1 * n2 \n",
    "\n",
    "def divide(n1, n2):\n",
    "    return n1/n2 \n",
    "\n",
    "def power(n1, n2):\n",
    "    return n1 ** n2 \n",
    "\n",
    "def power(n1, n2):\n",
    "    return n1 ** n2 \n",
    "\n",
    "#Create a Dictionary called operations\n",
    "operations = {\n",
    "    \"+\": add,\n",
    "    \"-\": subtract,\n",
    "    \"*\": multiply,\n",
    "    \"/\": divide,\n",
    "    \"**\": power\n",
    "}\n",
    "def calculator():\n",
    "#Use input function to create your inputs for first number and second_number call them num1 and num2 respectively\n",
    "    num1 = float(input(\"Enter the first number: \"))\n",
    "    for symbol in operations: \n",
    "        print(symbol)\n",
    "\n",
    "    should_continue = True\n",
    "    while should_continue:\n",
    "        operation_symbol = input(\"Pick an operation: \")\n",
    "        num2 = float(input(\"Enter the next number: \"))\n",
    "        calculation_function = operations[operation_symbol]\n",
    "        answer = calculation_function(num1, num2)\n",
    "\n",
    "        print(f\"Result of: {num1} {operation_symbol} {num2} = {answer}\")\n",
    "\n",
    "        if input(f\"Type 'y' to continue calculating with {answer} or type 'n' to exit.: \") == \"y\":\n",
    "            num1 = answer\n",
    "        else:\n",
    "            should_continue = False\n",
    "        calculator()\n",
    "        \n",
    "calculator()"
   ]
  },
  {
   "cell_type": "code",
   "execution_count": null,
   "id": "3294db5d",
   "metadata": {},
   "outputs": [],
   "source": [
    "Removing Recursion from a program"
   ]
  },
  {
   "cell_type": "code",
   "execution_count": null,
   "id": "1cd78ad4",
   "metadata": {},
   "outputs": [],
   "source": [
    "#from replit import clear\n",
    "#from art import logo \n",
    "def add(n1, n2):\n",
    "    return n1 + n2 \n",
    "\n",
    "def subtract(n1, n2):\n",
    "    return n1 - n2 \n",
    "\n",
    "def multiply(n1, n2):\n",
    "    return n1 * n2 \n",
    "\n",
    "def divide(n1, n2):\n",
    "    return n1/n2 \n",
    "\n",
    "def power(n1, n2):\n",
    "    return n1 ** n2 \n",
    "\n",
    "def power(n1, n2):\n",
    "    return n1 ** n2 \n",
    "\n",
    "#Create a Dictionary called operations\n",
    "operations = {\n",
    "    \"+\": add,\n",
    "    \"-\": subtract,\n",
    "    \"*\": multiply,\n",
    "    \"/\": divide,\n",
    "    \"**\": power\n",
    "}\n",
    "def calculator():\n",
    "    #print(logo)\n",
    "#Use input function to create your inputs for first number and second_number call them num1 and num2 respectively\n",
    "    num1 = float(input(\"Enter the first number: \"))\n",
    "    for symbol in operations: \n",
    "        print(symbol)\n",
    "\n",
    "    should_continue = True\n",
    "    while should_continue:\n",
    "        operation_symbol = input(\"Pick an operation: \")\n",
    "        num2 = float(input(\"Enter the next number: \"))\n",
    "        calculation_function = operations[operation_symbol]\n",
    "        answer = calculation_function(num1, num2) #function is being reused. \n",
    "\n",
    "        print(f\"Result of: {num1} {operation_symbol} {num2} = {answer}\")\n",
    "\n",
    "        if input(f\"Type 'y' to continue calculating with {answer} or type 'n' to start a new calculation.: \") == \"y\":\n",
    "            num1 = answer\n",
    "        else:\n",
    "            should_continue = False\n",
    "            #clear()   #call clear\n",
    "\n",
    "        calculator()\n",
    "\n",
    "calculator()"
   ]
  },
  {
   "cell_type": "code",
   "execution_count": null,
   "id": "3d1c9b23",
   "metadata": {},
   "outputs": [],
   "source": []
  }
 ],
 "metadata": {
  "kernelspec": {
   "display_name": "Python 3 (ipykernel)",
   "language": "python",
   "name": "python3"
  },
  "language_info": {
   "codemirror_mode": {
    "name": "ipython",
    "version": 3
   },
   "file_extension": ".py",
   "mimetype": "text/x-python",
   "name": "python",
   "nbconvert_exporter": "python",
   "pygments_lexer": "ipython3",
   "version": "3.9.13"
  }
 },
 "nbformat": 4,
 "nbformat_minor": 5
}
