{
 "cells": [
  {
   "cell_type": "markdown",
   "id": "88b8da50",
   "metadata": {},
   "source": [
    "Exercise 1: Printing "
   ]
  },
  {
   "cell_type": "code",
   "execution_count": 1,
   "id": "b4c20f2d",
   "metadata": {},
   "outputs": [
    {
     "name": "stdout",
     "output_type": "stream",
     "text": [
      "Hello Victor!\n"
     ]
    }
   ],
   "source": [
    "print(\"Hello Victor!\")"
   ]
  },
  {
   "cell_type": "code",
   "execution_count": 2,
   "id": "6c309f5d",
   "metadata": {},
   "outputs": [
    {
     "name": "stdout",
     "output_type": "stream",
     "text": [
      "How are you doing this evening?\n"
     ]
    }
   ],
   "source": [
    "print(\"How are you doing this evening?\")"
   ]
  },
  {
   "cell_type": "markdown",
   "id": "89df4708",
   "metadata": {},
   "source": [
    "String Concatenation "
   ]
  },
  {
   "cell_type": "code",
   "execution_count": 4,
   "id": "d3e3ebfa",
   "metadata": {},
   "outputs": [
    {
     "name": "stdout",
     "output_type": "stream",
     "text": [
      "HelloVictor\n"
     ]
    }
   ],
   "source": [
    "print(\"Hello\" \"Victor\")"
   ]
  },
  {
   "cell_type": "code",
   "execution_count": 5,
   "id": "ef9f4723",
   "metadata": {},
   "outputs": [
    {
     "name": "stdout",
     "output_type": "stream",
     "text": [
      "Hello Victor\n"
     ]
    }
   ],
   "source": [
    "#String Concatination \n",
    "print(\"Hello \" \"Victor\")"
   ]
  },
  {
   "cell_type": "code",
   "execution_count": 6,
   "id": "a76ec501",
   "metadata": {},
   "outputs": [
    {
     "name": "stdout",
     "output_type": "stream",
     "text": [
      "Hello Victor\n"
     ]
    }
   ],
   "source": [
    "print(\"Hello\" \" Victor\")"
   ]
  },
  {
   "cell_type": "code",
   "execution_count": 7,
   "id": "b403b3ec",
   "metadata": {},
   "outputs": [
    {
     "name": "stdout",
     "output_type": "stream",
     "text": [
      "Hello Victor\n"
     ]
    }
   ],
   "source": [
    "print(\"Hello\" + \" \" + \"Victor\")"
   ]
  },
  {
   "cell_type": "markdown",
   "id": "b78e939d",
   "metadata": {},
   "source": [
    "Debugging Practice "
   ]
  },
  {
   "cell_type": "code",
   "execution_count": 8,
   "id": "6c08dfb3",
   "metadata": {},
   "outputs": [
    {
     "name": "stdout",
     "output_type": "stream",
     "text": [
      "Day 1 - Python Print Function\n",
      "The function is declared like this:\n",
      "print('What to print')\n"
     ]
    }
   ],
   "source": [
    "#Debugging is fixing the code to remove any kind of an error\n",
    "print(\"Day 1 - Python Print Function\")\n",
    "print(\"The function is declared like this:\")\n",
    "print(\"print('What to print')\")"
   ]
  },
  {
   "cell_type": "markdown",
   "id": "40b00fa8",
   "metadata": {},
   "source": [
    "String Manipulation "
   ]
  },
  {
   "cell_type": "code",
   "execution_count": 12,
   "id": "29eca8b6",
   "metadata": {},
   "outputs": [
    {
     "name": "stdout",
     "output_type": "stream",
     "text": [
      "Hello World!\n",
      "Hello World!\n",
      "Hello World!\n"
     ]
    }
   ],
   "source": [
    "#Writing more different lines - each starting on a new line\n",
    "print(\"Hello World!\\nHello World!\\nHello World!\")"
   ]
  },
  {
   "cell_type": "code",
   "execution_count": 14,
   "id": "f056d4f1",
   "metadata": {},
   "outputs": [
    {
     "name": "stdout",
     "output_type": "stream",
     "text": [
      "Hello World!\n",
      "What is the current status of football in Kenya?\n",
      "aWho is the Cabinet Secretary for Sports and Youth Affairs?\n"
     ]
    }
   ],
   "source": [
    "print(\"Hello World!\\nWhat is the current status of football in Kenya?\\naWho is the Cabinet Secretary for Sports and Youth Affairs?\")"
   ]
  },
  {
   "cell_type": "markdown",
   "id": "68a6712b",
   "metadata": {},
   "source": [
    "Input Function"
   ]
  },
  {
   "cell_type": "code",
   "execution_count": 16,
   "id": "04b119c7",
   "metadata": {},
   "outputs": [
    {
     "name": "stdout",
     "output_type": "stream",
     "text": [
      "What is your name?Victor\n",
      "Hello Victor\n"
     ]
    }
   ],
   "source": [
    "#Assists to input data or any information \n",
    "#for example\n",
    "print(\"Hello \" + input(\"What is your name?\"))"
   ]
  },
  {
   "cell_type": "code",
   "execution_count": 20,
   "id": "f26f51fc",
   "metadata": {},
   "outputs": [
    {
     "name": "stdout",
     "output_type": "stream",
     "text": [
      "Which County are you from? I am from Homa Bay County\n",
      "Hello! I am from Homa Bay County\n"
     ]
    }
   ],
   "source": [
    "print(\"Hello! \" + input(\"Which County are you from? \"))"
   ]
  },
  {
   "cell_type": "markdown",
   "id": "5a20c5cd",
   "metadata": {},
   "source": [
    "len() function\n"
   ]
  },
  {
   "cell_type": "code",
   "execution_count": 21,
   "id": "46e0b823",
   "metadata": {},
   "outputs": [
    {
     "name": "stdout",
     "output_type": "stream",
     "text": [
      "18\n"
     ]
    }
   ],
   "source": [
    "#len () assist one to understand the number of characters \n",
    "s = \"How are you doing?\"\n",
    "print(len(s))"
   ]
  },
  {
   "cell_type": "code",
   "execution_count": 22,
   "id": "3a7b0241",
   "metadata": {},
   "outputs": [
    {
     "name": "stdout",
     "output_type": "stream",
     "text": [
      "4\n"
     ]
    }
   ],
   "source": [
    "print(len(\"Jack\"))"
   ]
  },
  {
   "cell_type": "code",
   "execution_count": 26,
   "id": "db02f32a",
   "metadata": {},
   "outputs": [
    {
     "name": "stdout",
     "output_type": "stream",
     "text": [
      "What is your name?\n",
      "Victor\n",
      "6\n"
     ]
    }
   ],
   "source": [
    "print(len(input(\"What is your name?\\n\")))"
   ]
  },
  {
   "cell_type": "code",
   "execution_count": 27,
   "id": "6acdff1f",
   "metadata": {},
   "outputs": [
    {
     "name": "stdout",
     "output_type": "stream",
     "text": [
      "What is your father's name?\n",
      "Ignastius\n",
      "9\n"
     ]
    }
   ],
   "source": [
    "name = input(\"What is your father's name?\\n\")\n",
    "print(len(name))"
   ]
  },
  {
   "cell_type": "markdown",
   "id": "70557d15",
   "metadata": {},
   "source": [
    "Python Variables"
   ]
  },
  {
   "cell_type": "code",
   "execution_count": 28,
   "id": "8a0eeab7",
   "metadata": {},
   "outputs": [
    {
     "name": "stdout",
     "output_type": "stream",
     "text": [
      "Enter your name:Victor\n"
     ]
    }
   ],
   "source": [
    "name = input(\"Enter your name:\")"
   ]
  },
  {
   "cell_type": "code",
   "execution_count": 30,
   "id": "cbb712a7",
   "metadata": {},
   "outputs": [
    {
     "name": "stdout",
     "output_type": "stream",
     "text": [
      "Enter the name of your pet:\n",
      "Chiwawa\n",
      "Chiwawa\n"
     ]
    }
   ],
   "source": [
    "name = input(\"Enter the name of your pet:\\n\")\n",
    "print(name)"
   ]
  },
  {
   "cell_type": "code",
   "execution_count": 31,
   "id": "9463f759",
   "metadata": {},
   "outputs": [
    {
     "name": "stdout",
     "output_type": "stream",
     "text": [
      "What is your name? Victor\n",
      "6\n"
     ]
    }
   ],
   "source": [
    "name = input(\"What is your name? \")\n",
    "length = len(name)\n",
    "print(length)"
   ]
  },
  {
   "cell_type": "markdown",
   "id": "4a5dcf28",
   "metadata": {},
   "source": [
    "Project: Band Generator Name"
   ]
  },
  {
   "cell_type": "code",
   "execution_count": 36,
   "id": "77f69c78",
   "metadata": {},
   "outputs": [
    {
     "name": "stdout",
     "output_type": "stream",
     "text": [
      "Welcome Band Name Generator!\n",
      "Which city did you grow in?\n",
      "  Kisumu\n",
      "What is the name of your pet?\n",
      "  Chiwawa\n",
      "Your band name could be:\n",
      "  Kisumu Chiwawa\n"
     ]
    }
   ],
   "source": [
    "#Create greeting for your program\n",
    "print(\"Welcome Band Name Generator!\")\n",
    "\n",
    "#Ask the user for the city they grew in \n",
    "city = input(\"Which city did you grow in?\\n  \")\n",
    "\n",
    "#Ask the user the name of their pet.\n",
    "pet = input(\"What is the name of your pet?\\n  \")\n",
    "\n",
    "#Combine both the name of the city and pet.Make sure the input cursor shows on a new line.\n",
    "print(\"Your band name could be:\\n  \" + city + \" \" + pet)"
   ]
  },
  {
   "cell_type": "code",
   "execution_count": null,
   "id": "3d8c6ac2",
   "metadata": {},
   "outputs": [],
   "source": []
  }
 ],
 "metadata": {
  "kernelspec": {
   "display_name": "Python 3 (ipykernel)",
   "language": "python",
   "name": "python3"
  },
  "language_info": {
   "codemirror_mode": {
    "name": "ipython",
    "version": 3
   },
   "file_extension": ".py",
   "mimetype": "text/x-python",
   "name": "python",
   "nbconvert_exporter": "python",
   "pygments_lexer": "ipython3",
   "version": "3.9.13"
  }
 },
 "nbformat": 4,
 "nbformat_minor": 5
}
