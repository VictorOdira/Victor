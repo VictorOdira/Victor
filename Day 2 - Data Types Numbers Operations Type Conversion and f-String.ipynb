{
 "cells": [
  {
   "cell_type": "markdown",
   "id": "474907a1",
   "metadata": {},
   "source": [
    "Data Types "
   ]
  },
  {
   "cell_type": "markdown",
   "id": "17ef1a9d",
   "metadata": {},
   "source": [
    "There are 4 data types - (Integer, Float, String and Boolean)"
   ]
  },
  {
   "cell_type": "code",
   "execution_count": 29,
   "id": "f7204bf2",
   "metadata": {},
   "outputs": [
    {
     "name": "stdout",
     "output_type": "stream",
     "text": [
      "H\n"
     ]
    }
   ],
   "source": [
    "#Subcripting\n",
    "print(\"Hello\"[0]) #1st character in python is represented by 0 as index"
   ]
  },
  {
   "cell_type": "code",
   "execution_count": 30,
   "id": "86dc5a2e",
   "metadata": {},
   "outputs": [
    {
     "name": "stdout",
     "output_type": "stream",
     "text": [
      "o\n"
     ]
    }
   ],
   "source": [
    "print(\"Hello\"[4])"
   ]
  },
  {
   "cell_type": "code",
   "execution_count": 31,
   "id": "3bd29c80",
   "metadata": {},
   "outputs": [
    {
     "name": "stdout",
     "output_type": "stream",
     "text": [
      "l\n"
     ]
    }
   ],
   "source": [
    "print(\"Hello\"[2])"
   ]
  },
  {
   "cell_type": "code",
   "execution_count": 33,
   "id": "d1aa4286",
   "metadata": {},
   "outputs": [
    {
     "name": "stdout",
     "output_type": "stream",
     "text": [
      "<class 'str'>\n"
     ]
    }
   ],
   "source": [
    "print(type(\"145\" + \"123\"))\n"
   ]
  },
  {
   "cell_type": "code",
   "execution_count": 35,
   "id": "6f4409f7",
   "metadata": {},
   "outputs": [
    {
     "name": "stdout",
     "output_type": "stream",
     "text": [
      "145123\n"
     ]
    }
   ],
   "source": [
    "print(\"145\" + \"123\")"
   ]
  },
  {
   "cell_type": "code",
   "execution_count": 37,
   "id": "17cb1aea",
   "metadata": {},
   "outputs": [
    {
     "name": "stdout",
     "output_type": "stream",
     "text": [
      "Hello254\n"
     ]
    }
   ],
   "source": [
    "print(\"Hello\" + \"254\")"
   ]
  },
  {
   "cell_type": "code",
   "execution_count": 39,
   "id": "a980508d",
   "metadata": {},
   "outputs": [
    {
     "name": "stdout",
     "output_type": "stream",
     "text": [
      "479.56\n"
     ]
    }
   ],
   "source": [
    "print(134 + 345.56) #You can concatenate str to str / int to int / into to float"
   ]
  },
  {
   "cell_type": "code",
   "execution_count": null,
   "id": "3ba7bd33",
   "metadata": {},
   "outputs": [],
   "source": [
    "#Integer \n",
    "#Integer - is any number without a decimal point and is not closed in open or close quotations\n",
    "#Example of integers are 1, 2, 45, 600, 97878, 345_458_345, -4 , -56, -909 etc\n",
    "#Any number whether positive or negative - without decimal points and no quotations"
   ]
  },
  {
   "cell_type": "code",
   "execution_count": 1,
   "id": "5c53f737",
   "metadata": {},
   "outputs": [],
   "source": [
    "#Float\n",
    "#Float - is any number with a decimal point - whether positive or negative \n",
    "#Example of floating numbers are 1.1, 34.5, 20.0, 745_567.89, -0.2 -7.89 etc"
   ]
  },
  {
   "cell_type": "code",
   "execution_count": 2,
   "id": "3e8a745a",
   "metadata": {},
   "outputs": [],
   "source": [
    "#String\n",
    "#String - is a number, letter, or word enclosed in quotations\n",
    "#Examples of string are \"123\", \"Hello Word\", \"r\", \"45\" etc"
   ]
  },
  {
   "cell_type": "code",
   "execution_count": 3,
   "id": "84c60a4e",
   "metadata": {},
   "outputs": [
    {
     "name": "stdout",
     "output_type": "stream",
     "text": [
      "<class 'int'>\n"
     ]
    }
   ],
   "source": [
    "#Checking data type\n",
    "print(type(45))"
   ]
  },
  {
   "cell_type": "code",
   "execution_count": 4,
   "id": "6c36e529",
   "metadata": {},
   "outputs": [
    {
     "data": {
      "text/plain": [
       "int"
      ]
     },
     "execution_count": 4,
     "metadata": {},
     "output_type": "execute_result"
    }
   ],
   "source": [
    "type(23)"
   ]
  },
  {
   "cell_type": "code",
   "execution_count": 9,
   "id": "4c259810",
   "metadata": {},
   "outputs": [
    {
     "name": "stdout",
     "output_type": "stream",
     "text": [
      "<class 'int'>\n"
     ]
    }
   ],
   "source": [
    "print(type(56))"
   ]
  },
  {
   "cell_type": "code",
   "execution_count": 10,
   "id": "47d89110",
   "metadata": {},
   "outputs": [
    {
     "name": "stdout",
     "output_type": "stream",
     "text": [
      "<class 'int'>\n"
     ]
    }
   ],
   "source": [
    "print(type(567_590))"
   ]
  },
  {
   "cell_type": "code",
   "execution_count": 11,
   "id": "09a2fe73",
   "metadata": {},
   "outputs": [
    {
     "name": "stdout",
     "output_type": "stream",
     "text": [
      "<class 'int'>\n"
     ]
    }
   ],
   "source": [
    "print(type(-6))"
   ]
  },
  {
   "cell_type": "code",
   "execution_count": 12,
   "id": "31ad40d6",
   "metadata": {},
   "outputs": [
    {
     "name": "stdout",
     "output_type": "stream",
     "text": [
      "<class 'int'>\n"
     ]
    }
   ],
   "source": [
    "print(type(0))"
   ]
  },
  {
   "cell_type": "code",
   "execution_count": 13,
   "id": "0e9cea64",
   "metadata": {},
   "outputs": [
    {
     "name": "stdout",
     "output_type": "stream",
     "text": [
      "<class 'float'>\n"
     ]
    }
   ],
   "source": [
    "print(type(2.34))"
   ]
  },
  {
   "cell_type": "code",
   "execution_count": 14,
   "id": "92bb9f96",
   "metadata": {},
   "outputs": [
    {
     "name": "stdout",
     "output_type": "stream",
     "text": [
      "<class 'float'>\n"
     ]
    }
   ],
   "source": [
    "print(type(-2.4))"
   ]
  },
  {
   "cell_type": "code",
   "execution_count": 15,
   "id": "2b60f991",
   "metadata": {},
   "outputs": [
    {
     "name": "stdout",
     "output_type": "stream",
     "text": [
      "<class 'float'>\n"
     ]
    }
   ],
   "source": [
    "print(type(23_670.98))"
   ]
  },
  {
   "cell_type": "code",
   "execution_count": 16,
   "id": "0a57c076",
   "metadata": {},
   "outputs": [
    {
     "name": "stdout",
     "output_type": "stream",
     "text": [
      "<class 'float'>\n"
     ]
    }
   ],
   "source": [
    "print(type(0.99))"
   ]
  },
  {
   "cell_type": "code",
   "execution_count": 17,
   "id": "abd771a1",
   "metadata": {},
   "outputs": [
    {
     "name": "stdout",
     "output_type": "stream",
     "text": [
      "<class 'str'>\n"
     ]
    }
   ],
   "source": [
    "print(type(\"hello\"))"
   ]
  },
  {
   "cell_type": "code",
   "execution_count": 18,
   "id": "bde3eac0",
   "metadata": {},
   "outputs": [
    {
     "name": "stdout",
     "output_type": "stream",
     "text": [
      "<class 'str'>\n"
     ]
    }
   ],
   "source": [
    "print(type(\"156\"))"
   ]
  },
  {
   "cell_type": "code",
   "execution_count": 19,
   "id": "e53e2966",
   "metadata": {},
   "outputs": [
    {
     "name": "stdout",
     "output_type": "stream",
     "text": [
      "<class 'str'>\n"
     ]
    }
   ],
   "source": [
    "print(type(\"234_458.8\"))"
   ]
  },
  {
   "cell_type": "code",
   "execution_count": 20,
   "id": "ef4fe59c",
   "metadata": {},
   "outputs": [
    {
     "name": "stdout",
     "output_type": "stream",
     "text": [
      "<class 'str'>\n"
     ]
    }
   ],
   "source": [
    "print(type(\"456_234\"))"
   ]
  },
  {
   "cell_type": "code",
   "execution_count": 21,
   "id": "b0ae9b2d",
   "metadata": {},
   "outputs": [
    {
     "name": "stdout",
     "output_type": "stream",
     "text": [
      "<class 'str'>\n"
     ]
    }
   ],
   "source": [
    "print(type(\"r\"))"
   ]
  },
  {
   "cell_type": "code",
   "execution_count": 22,
   "id": "0b568b9b",
   "metadata": {},
   "outputs": [],
   "source": [
    "#Boolean \n",
    "#Boolean is two versions -> True or False (1 or 0)"
   ]
  },
  {
   "cell_type": "markdown",
   "id": "a8db7ee0",
   "metadata": {},
   "source": [
    "Type conversion"
   ]
  },
  {
   "cell_type": "code",
   "execution_count": 23,
   "id": "03d68e7a",
   "metadata": {},
   "outputs": [
    {
     "name": "stdout",
     "output_type": "stream",
     "text": [
      "What is your name? Victor\n",
      "<class 'int'>\n"
     ]
    }
   ],
   "source": [
    "#Convert a string to an int \n",
    "num_char = len(input(\"What is your name? \"))\n",
    "new_num_char = str(num_char)\n",
    "print(type(num_char))"
   ]
  },
  {
   "cell_type": "code",
   "execution_count": 25,
   "id": "bd77f072",
   "metadata": {},
   "outputs": [
    {
     "name": "stdout",
     "output_type": "stream",
     "text": [
      "What is your name? Victor\n",
      "Your name has 6 characters.\n"
     ]
    }
   ],
   "source": [
    "num_char = len(input(\"What is your name? \"))\n",
    "new_num_char = str(num_char)\n",
    "print(\"Your name has \" + new_num_char + \" characters.\")"
   ]
  },
  {
   "cell_type": "code",
   "execution_count": 41,
   "id": "dfd49e98",
   "metadata": {},
   "outputs": [
    {
     "name": "stdout",
     "output_type": "stream",
     "text": [
      "Enter a two digit number: 56\n"
     ]
    },
    {
     "data": {
      "text/plain": [
       "str"
      ]
     },
     "execution_count": 41,
     "metadata": {},
     "output_type": "execute_result"
    }
   ],
   "source": [
    "two_digit_number = input(\"Enter a two digit number: \")\n",
    "type(two_digit_number)"
   ]
  },
  {
   "cell_type": "code",
   "execution_count": 47,
   "id": "6c8dc324",
   "metadata": {},
   "outputs": [
    {
     "name": "stdout",
     "output_type": "stream",
     "text": [
      "56\n"
     ]
    },
    {
     "data": {
      "text/plain": [
       "str"
      ]
     },
     "execution_count": 47,
     "metadata": {},
     "output_type": "execute_result"
    }
   ],
   "source": [
    "first_digit = two_digit_number[0]\n",
    "second_digit = two_digit_number[1]\n",
    "result = first_digit + second_digit\n",
    "print(result)\n",
    "type(result)"
   ]
  },
  {
   "cell_type": "code",
   "execution_count": 52,
   "id": "73dbca59",
   "metadata": {},
   "outputs": [
    {
     "name": "stdout",
     "output_type": "stream",
     "text": [
      "11\n",
      "<class 'int'>\n"
     ]
    }
   ],
   "source": [
    "first_digit = two_digit_number[0]\n",
    "second_digit = two_digit_number[1]\n",
    "result = int(first_digit) + int(second_digit)\n",
    "print(result)\n",
    "print(type(result)) #OR"
   ]
  },
  {
   "cell_type": "code",
   "execution_count": 50,
   "id": "2ac1e7e9",
   "metadata": {},
   "outputs": [
    {
     "name": "stdout",
     "output_type": "stream",
     "text": [
      "Enter a two digit number: 56\n",
      "11\n",
      "<class 'int'>\n"
     ]
    }
   ],
   "source": [
    "two_digit_number = input(\"Enter a two digit number: \")\n",
    "first_digit = int(two_digit_number[0])\n",
    "second_digit = int(two_digit_number[1])\n",
    "result = first_digit + second_digit\n",
    "print(result)\n",
    "print(type(result)) #OR"
   ]
  },
  {
   "cell_type": "code",
   "execution_count": 55,
   "id": "c9f7c732",
   "metadata": {},
   "outputs": [
    {
     "name": "stdout",
     "output_type": "stream",
     "text": [
      "Welcome to the Tip Calculator!\n",
      "Enter the total bill in Ksh:\n",
      "  5650.45\n",
      "Enter percentage of tip you would like to give:\n",
      "  12\n",
      "Enter the number of people to split the bill:\n",
      "  7\n",
      "Total bill is Ksh 6328.504\n",
      "Each person to pay Ksh 904\n"
     ]
    }
   ],
   "source": [
    "#Day 2 Project: Tip Calculator Program\n",
    "\n",
    "print(\"Welcome to the Tip Calculator!\")\n",
    "bill = float(input(\"Enter the total bill in Ksh:\\n  \"))\n",
    "tip = int(input(\"Enter percentage of tip you would like to give:\\n  \"))\n",
    "number_of_people = int(input(\"Enter the number of people to split the bill:\\n  \"))\n",
    "#bill_with_tip = sum of tip and bill\n",
    "bill_plus_tip = tip/100*bill+bill\n",
    "print(f\"Total bill is Ksh {bill_plus_tip}\")\n",
    "#Amount per person\n",
    "bill_per_person = bill_plus_tip/number_of_people\n",
    "#Rounding off \n",
    "final_amount_per_person = round(bill_per_person)\n",
    "print(f\"Each person to pay Ksh {final_amount_per_person}\")\n"
   ]
  },
  {
   "cell_type": "code",
   "execution_count": 61,
   "id": "f8c906d2",
   "metadata": {},
   "outputs": [
    {
     "name": "stdout",
     "output_type": "stream",
     "text": [
      "Enter school fees in Ksh:\n",
      "  45675\n",
      "Enter percentage of shopping:\n",
      "  10\n",
      "Enter the number of brothers to split the fees:\n",
      "  4\n",
      "Total fees and shopping is Ksh 50242.5\n",
      "Each brother should pay Ksh 12561\n"
     ]
    }
   ],
   "source": [
    "#Day 2 Project: Own Project: School Fees Calculator\n",
    "student_fees = float(input(\"Enter school fees in Ksh:\\n  \"))\n",
    "student_shopping = int(input(\"Enter percentage of shopping:\\n  \"))\n",
    "number_of_brothers = int(input(\"Enter the number of brothers to split the fees:\\n  \"))\n",
    "fees_plus_shopping = student_shopping/100*student_fees+student_fees\n",
    "print(f\"Total fees and shopping is Ksh {fees_plus_shopping}\")\n",
    "amount_per_brother = fees_plus_shopping/number_of_brothers\n",
    "final_amount_per_brother = round(amount_per_brother) #Round\n",
    "print(f\"Each brother should pay Ksh {final_amount_per_brother}\")"
   ]
  },
  {
   "cell_type": "code",
   "execution_count": null,
   "id": "182ab60e",
   "metadata": {},
   "outputs": [],
   "source": []
  }
 ],
 "metadata": {
  "kernelspec": {
   "display_name": "Python 3 (ipykernel)",
   "language": "python",
   "name": "python3"
  },
  "language_info": {
   "codemirror_mode": {
    "name": "ipython",
    "version": 3
   },
   "file_extension": ".py",
   "mimetype": "text/x-python",
   "name": "python",
   "nbconvert_exporter": "python",
   "pygments_lexer": "ipython3",
   "version": "3.9.13"
  }
 },
 "nbformat": 4,
 "nbformat_minor": 5
}
